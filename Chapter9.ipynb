{
 "cells": [
  {
   "cell_type": "markdown",
   "metadata": {},
   "source": [
    "## Chapter 9. Iterator\n",
    "### python的iterator允許物件進行分次處理\n",
    "### 通常會呼叫iter定義iterator物件，搭配next函式進行下一個值呼叫"
   ]
  },
  {
   "cell_type": "code",
   "execution_count": 2,
   "metadata": {},
   "outputs": [
    {
     "name": "stdout",
     "output_type": "stream",
     "text": [
      "1\n",
      "2\n",
      "3\n",
      "4\n"
     ]
    }
   ],
   "source": [
    "mylist=[1,2,3,4]\n",
    "for i in mylist:\n",
    "    print(i)"
   ]
  },
  {
   "cell_type": "code",
   "execution_count": 3,
   "metadata": {},
   "outputs": [
    {
     "name": "stdout",
     "output_type": "stream",
     "text": [
      "1\n",
      "2\n",
      "3\n",
      "4\n"
     ]
    }
   ],
   "source": [
    "mylist=[1,2,3,4]\n",
    "mylist_i=iter(mylist)\n",
    "print(next(mylist_i))\n",
    "print(next(mylist_i))\n",
    "print(next(mylist_i))\n",
    "print(next(mylist_i))"
   ]
  },
  {
   "cell_type": "markdown",
   "metadata": {},
   "source": [
    "## 自訂iterator"
   ]
  },
  {
   "cell_type": "code",
   "execution_count": 4,
   "metadata": {},
   "outputs": [
    {
     "name": "stdout",
     "output_type": "stream",
     "text": [
      "1\n",
      "2\n",
      "3\n",
      "4\n",
      "5\n"
     ]
    }
   ],
   "source": [
    "class mynumbers:\n",
    "    a=1\n",
    "    def __iter__(self):\n",
    "        return self\n",
    "    def __next__(self):\n",
    "        x=self.a\n",
    "        self.a +=1\n",
    "        return x\n",
    "my_num=mynumbers()\n",
    "print(next(my_num))\n",
    "print(next(my_num))\n",
    "print(next(my_num))\n",
    "print(next(my_num))\n",
    "print(next(my_num))"
   ]
  },
  {
   "cell_type": "markdown",
   "metadata": {},
   "source": [
    "## 費氏數列"
   ]
  },
  {
   "cell_type": "code",
   "execution_count": 1,
   "metadata": {},
   "outputs": [
    {
     "name": "stdout",
     "output_type": "stream",
     "text": [
      "1\n",
      "1\n",
      "2\n",
      "3\n",
      "5\n",
      "8\n",
      "13\n",
      "21\n",
      "34\n",
      "55\n"
     ]
    }
   ],
   "source": [
    "class Fib:                                        \n",
    "    def __init__(self):                      \n",
    "        self.a, self.b = 0, 1\n",
    "\n",
    "    def __iter__(self):                           \n",
    "        return self\n",
    "\n",
    "    def __next__(self):                                        \n",
    "        self.a, self.b = self.b, self.a + self.b\n",
    "        return self.a\n",
    "\n",
    "a=Fib()  \n",
    "for i in range(10):\n",
    "  print(next(a))"
   ]
  },
  {
   "cell_type": "code",
   "execution_count": null,
   "metadata": {},
   "outputs": [],
   "source": []
  }
 ],
 "metadata": {
  "kernelspec": {
   "display_name": "Python 3",
   "language": "python",
   "name": "python3"
  },
  "language_info": {
   "codemirror_mode": {
    "name": "ipython",
    "version": 3
   },
   "file_extension": ".py",
   "mimetype": "text/x-python",
   "name": "python",
   "nbconvert_exporter": "python",
   "pygments_lexer": "ipython3",
   "version": "3.7.4"
  }
 },
 "nbformat": 4,
 "nbformat_minor": 2
}
