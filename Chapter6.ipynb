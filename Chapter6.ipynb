{
 "cells": [
  {
   "cell_type": "markdown",
   "metadata": {},
   "source": [
    "# Pandas Data Frame"
   ]
  },
  {
   "cell_type": "code",
   "execution_count": 1,
   "metadata": {},
   "outputs": [],
   "source": [
    "import pandas as pd"
   ]
  },
  {
   "cell_type": "code",
   "execution_count": 2,
   "metadata": {},
   "outputs": [
    {
     "data": {
      "text/html": [
       "<div>\n",
       "<style scoped>\n",
       "    .dataframe tbody tr th:only-of-type {\n",
       "        vertical-align: middle;\n",
       "    }\n",
       "\n",
       "    .dataframe tbody tr th {\n",
       "        vertical-align: top;\n",
       "    }\n",
       "\n",
       "    .dataframe thead th {\n",
       "        text-align: right;\n",
       "    }\n",
       "</style>\n",
       "<table border=\"1\" class=\"dataframe\">\n",
       "  <thead>\n",
       "    <tr style=\"text-align: right;\">\n",
       "      <th></th>\n",
       "      <th>groups</th>\n",
       "      <th>ironmen</th>\n",
       "    </tr>\n",
       "  </thead>\n",
       "  <tbody>\n",
       "    <tr>\n",
       "      <td>0</td>\n",
       "      <td>Modern web</td>\n",
       "      <td>59</td>\n",
       "    </tr>\n",
       "    <tr>\n",
       "      <td>1</td>\n",
       "      <td>Devops</td>\n",
       "      <td>9</td>\n",
       "    </tr>\n",
       "    <tr>\n",
       "      <td>2</td>\n",
       "      <td>Cloud</td>\n",
       "      <td>19</td>\n",
       "    </tr>\n",
       "    <tr>\n",
       "      <td>3</td>\n",
       "      <td>Big Data</td>\n",
       "      <td>14</td>\n",
       "    </tr>\n",
       "    <tr>\n",
       "      <td>4</td>\n",
       "      <td>Security</td>\n",
       "      <td>6</td>\n",
       "    </tr>\n",
       "    <tr>\n",
       "      <td>5</td>\n",
       "      <td>自我挑戰組</td>\n",
       "      <td>77</td>\n",
       "    </tr>\n",
       "  </tbody>\n",
       "</table>\n",
       "</div>"
      ],
      "text/plain": [
       "       groups  ironmen\n",
       "0  Modern web       59\n",
       "1      Devops        9\n",
       "2       Cloud       19\n",
       "3    Big Data       14\n",
       "4    Security        6\n",
       "5       自我挑戰組       77"
      ]
     },
     "execution_count": 2,
     "metadata": {},
     "output_type": "execute_result"
    }
   ],
   "source": [
    "groups=[\"Modern web\",\"Devops\",\"Cloud\",\"Big Data\",\"Security\",\"自我挑戰組\"]\n",
    "ironmen=[59,9,19,14,6,77]\n",
    "ironmen_dict={\"groups\":groups,\"ironmen\":ironmen}\n",
    "ironmen_df=pd.DataFrame(ironmen_dict)\n",
    "ironmen_df"
   ]
  },
  {
   "cell_type": "code",
   "execution_count": 3,
   "metadata": {},
   "outputs": [
    {
     "name": "stdout",
     "output_type": "stream",
     "text": [
      "groups     Modern webDevopsCloudBig DataSecurity自我挑戰組\n",
      "ironmen                                           184\n",
      "dtype: object\n",
      "ironmen    30.666667\n",
      "dtype: float64\n",
      "ironmen    16.5\n",
      "dtype: float64\n",
      "         ironmen\n",
      "count   6.000000\n",
      "mean   30.666667\n",
      "std    29.803803\n",
      "min     6.000000\n",
      "25%    10.250000\n",
      "50%    16.500000\n",
      "75%    49.000000\n",
      "max    77.000000\n"
     ]
    }
   ],
   "source": [
    "print(ironmen_df.sum()) #計算鐵人總數\n",
    "print(ironmen_df.mean()) #計算平均鐵人數\n",
    "print(ironmen_df.median()) #計算鐵人中位數\n",
    "print(ironmen_df.describe()) #列出所有描述性統計"
   ]
  },
  {
   "cell_type": "code",
   "execution_count": 5,
   "metadata": {},
   "outputs": [
    {
     "name": "stdout",
     "output_type": "stream",
     "text": [
      "       groups  ironmen\n",
      "0  Modern web     59.0\n",
      "1      Devops      9.0\n",
      "2         NaN     19.0\n",
      "3    Big Data     14.0\n",
      "4    Security      6.0\n",
      "5       自我挑戰組      NaN\n",
      "---------------------------\n",
      "0    False\n",
      "1    False\n",
      "2     True\n",
      "3    False\n",
      "4    False\n",
      "5    False\n",
      "Name: groups, dtype: bool\n",
      "---------------------------\n",
      "0     True\n",
      "1     True\n",
      "2    False\n",
      "3     True\n",
      "4     True\n",
      "5     True\n",
      "Name: groups, dtype: bool\n"
     ]
    }
   ],
   "source": [
    "import numpy as np\n",
    "groups=[\"Modern web\",\"Devops\",np.nan,\"Big Data\",\"Security\",\"自我挑戰組\"]\n",
    "ironmen=[59,9,19,14,6,np.nan]\n",
    "ironmen_dict={\"groups\":groups,\"ironmen\":ironmen}\n",
    "ironmen_df=pd.DataFrame(ironmen_dict)\n",
    "print(ironmen_df)\n",
    "print(\"---------------------------\")\n",
    "print(ironmen_df.loc[:,\"groups\"].isnull()) #判斷那些組名是遺失值\n",
    "print(\"---------------------------\")\n",
    "print(ironmen_df.loc[:,\"groups\"].notnull()) #判斷那些組的鐵人數不是遺失值"
   ]
  },
  {
   "cell_type": "code",
   "execution_count": 6,
   "metadata": {},
   "outputs": [
    {
     "name": "stderr",
     "output_type": "stream",
     "text": [
      "C:\\ProgramData\\Anaconda3\\lib\\site-packages\\ipykernel_launcher.py:1: SettingWithCopyWarning: \n",
      "A value is trying to be set on a copy of a slice from a DataFrame\n",
      "\n",
      "See the caveats in the documentation: http://pandas.pydata.org/pandas-docs/stable/user_guide/indexing.html#returning-a-view-versus-a-copy\n",
      "  \"\"\"Entry point for launching an IPython kernel.\n",
      "C:\\ProgramData\\Anaconda3\\lib\\site-packages\\ipykernel_launcher.py:2: SettingWithCopyWarning: \n",
      "A value is trying to be set on a copy of a slice from a DataFrame\n",
      "\n",
      "See the caveats in the documentation: http://pandas.pydata.org/pandas-docs/stable/user_guide/indexing.html#returning-a-view-versus-a-copy\n",
      "  \n"
     ]
    },
    {
     "data": {
      "text/html": [
       "<div>\n",
       "<style scoped>\n",
       "    .dataframe tbody tr th:only-of-type {\n",
       "        vertical-align: middle;\n",
       "    }\n",
       "\n",
       "    .dataframe tbody tr th {\n",
       "        vertical-align: top;\n",
       "    }\n",
       "\n",
       "    .dataframe thead th {\n",
       "        text-align: right;\n",
       "    }\n",
       "</style>\n",
       "<table border=\"1\" class=\"dataframe\">\n",
       "  <thead>\n",
       "    <tr style=\"text-align: right;\">\n",
       "      <th></th>\n",
       "      <th>groups</th>\n",
       "      <th>ironmen</th>\n",
       "    </tr>\n",
       "  </thead>\n",
       "  <tbody>\n",
       "    <tr>\n",
       "      <td>0</td>\n",
       "      <td>Modern web</td>\n",
       "      <td>69.0</td>\n",
       "    </tr>\n",
       "    <tr>\n",
       "      <td>1</td>\n",
       "      <td>Devops</td>\n",
       "      <td>19.0</td>\n",
       "    </tr>\n",
       "    <tr>\n",
       "      <td>2</td>\n",
       "      <td>不知道名字組</td>\n",
       "      <td>29.0</td>\n",
       "    </tr>\n",
       "    <tr>\n",
       "      <td>3</td>\n",
       "      <td>Big Data</td>\n",
       "      <td>24.0</td>\n",
       "    </tr>\n",
       "    <tr>\n",
       "      <td>4</td>\n",
       "      <td>Security</td>\n",
       "      <td>16.0</td>\n",
       "    </tr>\n",
       "    <tr>\n",
       "      <td>5</td>\n",
       "      <td>自我挑戰組</td>\n",
       "      <td>NaN</td>\n",
       "    </tr>\n",
       "  </tbody>\n",
       "</table>\n",
       "</div>"
      ],
      "text/plain": [
       "       groups  ironmen\n",
       "0  Modern web     69.0\n",
       "1      Devops     19.0\n",
       "2      不知道名字組     29.0\n",
       "3    Big Data     24.0\n",
       "4    Security     16.0\n",
       "5       自我挑戰組      NaN"
      ]
     },
     "execution_count": 6,
     "metadata": {},
     "output_type": "execute_result"
    }
   ],
   "source": [
    "ironmen_df.groups[ironmen_df.loc[:,\"groups\"].isnull()]=\"不知道名字組\"\n",
    "ironmen_df.ironmen[ironmen_df.loc[:,\"groups\"].notnull()]+=10\n",
    "ironmen_df"
   ]
  },
  {
   "cell_type": "code",
   "execution_count": 2,
   "metadata": {},
   "outputs": [
    {
     "name": "stdout",
     "output_type": "stream",
     "text": [
      "0    False\n",
      "1    False\n",
      "2     True\n",
      "3    False\n",
      "4    False\n",
      "5    False\n",
      "Name: groups, dtype: bool\n",
      "0     True\n",
      "1     True\n",
      "2     True\n",
      "3     True\n",
      "4     True\n",
      "5    False\n",
      "Name: ironmen, dtype: bool\n"
     ]
    }
   ],
   "source": [
    "import numpy as np\n",
    "import pandas as pd\n",
    "groups=[\"Modern web\",\"Devops\",np.nan,\"Big Data\",\"Security\",\"自我挑戰組\"]\n",
    "ironmen=[59,9,19,14,6,np.nan]\n",
    "ironmen_dict={\"groups\":groups,\"ironmen\":ironmen}\n",
    "ironmen_df=pd.DataFrame(ironmen_dict)\n",
    "# print(ironmen_df)\n",
    "print(ironmen_df.loc[:,\"groups\"].isnull()) #判斷那些組名是遺失值\n",
    "print(ironmen_df.loc[:,\"ironmen\"].notnull()) #判斷那些組的鐵人數不是遺失值"
   ]
  },
  {
   "cell_type": "code",
   "execution_count": 3,
   "metadata": {},
   "outputs": [
    {
     "name": "stdout",
     "output_type": "stream",
     "text": [
      "2    NaN\n",
      "Name: groups, dtype: object\n",
      "0    59.0\n",
      "1     9.0\n",
      "2    19.0\n",
      "3    14.0\n",
      "4     6.0\n",
      "Name: ironmen, dtype: float64\n"
     ]
    }
   ],
   "source": [
    "print(ironmen_df.groups[ironmen_df.loc[:,\"groups\"].isnull()])\n",
    "print(ironmen_df.ironmen[ironmen_df.loc[:,\"ironmen\"].notnull()])"
   ]
  },
  {
   "cell_type": "code",
   "execution_count": 4,
   "metadata": {},
   "outputs": [
    {
     "name": "stdout",
     "output_type": "stream",
     "text": [
      "       groups  ironmen\n",
      "0  Modern web     59.0\n",
      "1      Devops      9.0\n",
      "2         NaN     19.0\n",
      "3    Big Data     14.0\n",
      "4    Security      6.0\n",
      "5       自我挑戰組      NaN\n",
      "       groups  ironmen\n",
      "0  Modern web     59.0\n",
      "1      Devops      9.0\n",
      "3    Big Data     14.0\n",
      "4    Security      6.0\n",
      "       groups  ironmen\n",
      "0  Modern web     59.0\n",
      "1      Devops      9.0\n",
      "2           0     19.0\n",
      "3    Big Data     14.0\n",
      "4    Security      6.0\n",
      "5       自我挑戰組      0.0\n",
      "       groups  ironmen\n",
      "0  Modern web     59.0\n",
      "1      Devops      9.0\n",
      "2         NaN     19.0\n",
      "3    Big Data     14.0\n",
      "4    Security      6.0\n",
      "5       自我挑戰組     71.0\n"
     ]
    }
   ],
   "source": [
    "print(ironmen_df)\n",
    "ironmen_df_dropped = ironmen_df.dropna() #刪除遺失值\n",
    "print(ironmen_df_dropped)\n",
    "ironmen_df_filled = ironmen_df.fillna(0)\n",
    "print(ironmen_df_filled)\n",
    "ironmen_df_fillvalue = ironmen_df.fillna({\"group\":\"Cloud\",\"ironmen\":71})\n",
    "print(ironmen_df_fillvalue)"
   ]
  },
  {
   "cell_type": "markdown",
   "metadata": {},
   "source": [
    "# Chap6-1 DataFrame loc, iloc"
   ]
  },
  {
   "cell_type": "code",
   "execution_count": 5,
   "metadata": {},
   "outputs": [
    {
     "data": {
      "text/html": [
       "<div>\n",
       "<style scoped>\n",
       "    .dataframe tbody tr th:only-of-type {\n",
       "        vertical-align: middle;\n",
       "    }\n",
       "\n",
       "    .dataframe tbody tr th {\n",
       "        vertical-align: top;\n",
       "    }\n",
       "\n",
       "    .dataframe thead th {\n",
       "        text-align: right;\n",
       "    }\n",
       "</style>\n",
       "<table border=\"1\" class=\"dataframe\">\n",
       "  <thead>\n",
       "    <tr style=\"text-align: right;\">\n",
       "      <th></th>\n",
       "      <th>A</th>\n",
       "      <th>B</th>\n",
       "      <th>C</th>\n",
       "      <th>D</th>\n",
       "    </tr>\n",
       "  </thead>\n",
       "  <tbody>\n",
       "    <tr>\n",
       "      <td>a</td>\n",
       "      <td>0.682271</td>\n",
       "      <td>0.783202</td>\n",
       "      <td>0.123819</td>\n",
       "      <td>0.138016</td>\n",
       "    </tr>\n",
       "    <tr>\n",
       "      <td>b</td>\n",
       "      <td>0.959592</td>\n",
       "      <td>0.315305</td>\n",
       "      <td>0.079737</td>\n",
       "      <td>0.393884</td>\n",
       "    </tr>\n",
       "    <tr>\n",
       "      <td>c</td>\n",
       "      <td>0.710372</td>\n",
       "      <td>0.280381</td>\n",
       "      <td>0.914078</td>\n",
       "      <td>0.858816</td>\n",
       "    </tr>\n",
       "    <tr>\n",
       "      <td>d</td>\n",
       "      <td>0.702733</td>\n",
       "      <td>0.213145</td>\n",
       "      <td>0.358149</td>\n",
       "      <td>0.009084</td>\n",
       "    </tr>\n",
       "  </tbody>\n",
       "</table>\n",
       "</div>"
      ],
      "text/plain": [
       "          A         B         C         D\n",
       "a  0.682271  0.783202  0.123819  0.138016\n",
       "b  0.959592  0.315305  0.079737  0.393884\n",
       "c  0.710372  0.280381  0.914078  0.858816\n",
       "d  0.702733  0.213145  0.358149  0.009084"
      ]
     },
     "execution_count": 5,
     "metadata": {},
     "output_type": "execute_result"
    }
   ],
   "source": [
    "# 隨機產生DataFrame資料\n",
    "import numpy as np\n",
    "import pandas as pd\n",
    "frame = pd.DataFrame(np.random.rand(4,4),index=list('abcd'),columns=list('ABCD'))\n",
    "frame"
   ]
  },
  {
   "cell_type": "code",
   "execution_count": 6,
   "metadata": {},
   "outputs": [
    {
     "data": {
      "text/html": [
       "<div>\n",
       "<style scoped>\n",
       "    .dataframe tbody tr th:only-of-type {\n",
       "        vertical-align: middle;\n",
       "    }\n",
       "\n",
       "    .dataframe tbody tr th {\n",
       "        vertical-align: top;\n",
       "    }\n",
       "\n",
       "    .dataframe thead th {\n",
       "        text-align: right;\n",
       "    }\n",
       "</style>\n",
       "<table border=\"1\" class=\"dataframe\">\n",
       "  <thead>\n",
       "    <tr style=\"text-align: right;\">\n",
       "      <th></th>\n",
       "      <th>A</th>\n",
       "      <th>B</th>\n",
       "      <th>C</th>\n",
       "      <th>D</th>\n",
       "    </tr>\n",
       "  </thead>\n",
       "  <tbody>\n",
       "    <tr>\n",
       "      <td>count</td>\n",
       "      <td>4.000000</td>\n",
       "      <td>4.000000</td>\n",
       "      <td>4.000000</td>\n",
       "      <td>4.000000</td>\n",
       "    </tr>\n",
       "    <tr>\n",
       "      <td>mean</td>\n",
       "      <td>0.763742</td>\n",
       "      <td>0.398009</td>\n",
       "      <td>0.368946</td>\n",
       "      <td>0.349950</td>\n",
       "    </tr>\n",
       "    <tr>\n",
       "      <td>std</td>\n",
       "      <td>0.131104</td>\n",
       "      <td>0.260272</td>\n",
       "      <td>0.383412</td>\n",
       "      <td>0.375047</td>\n",
       "    </tr>\n",
       "    <tr>\n",
       "      <td>min</td>\n",
       "      <td>0.682271</td>\n",
       "      <td>0.213145</td>\n",
       "      <td>0.079737</td>\n",
       "      <td>0.009084</td>\n",
       "    </tr>\n",
       "    <tr>\n",
       "      <td>25%</td>\n",
       "      <td>0.697618</td>\n",
       "      <td>0.263572</td>\n",
       "      <td>0.112798</td>\n",
       "      <td>0.105783</td>\n",
       "    </tr>\n",
       "    <tr>\n",
       "      <td>50%</td>\n",
       "      <td>0.706553</td>\n",
       "      <td>0.297843</td>\n",
       "      <td>0.240984</td>\n",
       "      <td>0.265950</td>\n",
       "    </tr>\n",
       "    <tr>\n",
       "      <td>75%</td>\n",
       "      <td>0.772677</td>\n",
       "      <td>0.432280</td>\n",
       "      <td>0.497131</td>\n",
       "      <td>0.510117</td>\n",
       "    </tr>\n",
       "    <tr>\n",
       "      <td>max</td>\n",
       "      <td>0.959592</td>\n",
       "      <td>0.783202</td>\n",
       "      <td>0.914078</td>\n",
       "      <td>0.858816</td>\n",
       "    </tr>\n",
       "  </tbody>\n",
       "</table>\n",
       "</div>"
      ],
      "text/plain": [
       "              A         B         C         D\n",
       "count  4.000000  4.000000  4.000000  4.000000\n",
       "mean   0.763742  0.398009  0.368946  0.349950\n",
       "std    0.131104  0.260272  0.383412  0.375047\n",
       "min    0.682271  0.213145  0.079737  0.009084\n",
       "25%    0.697618  0.263572  0.112798  0.105783\n",
       "50%    0.706553  0.297843  0.240984  0.265950\n",
       "75%    0.772677  0.432280  0.497131  0.510117\n",
       "max    0.959592  0.783202  0.914078  0.858816"
      ]
     },
     "execution_count": 6,
     "metadata": {},
     "output_type": "execute_result"
    }
   ],
   "source": [
    "frame.describe()"
   ]
  },
  {
   "cell_type": "markdown",
   "metadata": {},
   "source": [
    "## loc用欄位定位DataFrame的資料\n",
    "## iloc用索引定位DataFrame的資料\n",
    "## .loc用[欄,列]定位DataFrame的資料"
   ]
  },
  {
   "cell_type": "code",
   "execution_count": 7,
   "metadata": {},
   "outputs": [
    {
     "data": {
      "text/plain": [
       "0.6822709898049997"
      ]
     },
     "execution_count": 7,
     "metadata": {},
     "output_type": "execute_result"
    }
   ],
   "source": [
    "frame.loc['a','A']"
   ]
  },
  {
   "cell_type": "code",
   "execution_count": 8,
   "metadata": {},
   "outputs": [
    {
     "data": {
      "text/html": [
       "<div>\n",
       "<style scoped>\n",
       "    .dataframe tbody tr th:only-of-type {\n",
       "        vertical-align: middle;\n",
       "    }\n",
       "\n",
       "    .dataframe tbody tr th {\n",
       "        vertical-align: top;\n",
       "    }\n",
       "\n",
       "    .dataframe thead th {\n",
       "        text-align: right;\n",
       "    }\n",
       "</style>\n",
       "<table border=\"1\" class=\"dataframe\">\n",
       "  <thead>\n",
       "    <tr style=\"text-align: right;\">\n",
       "      <th></th>\n",
       "      <th>A</th>\n",
       "      <th>B</th>\n",
       "      <th>C</th>\n",
       "      <th>D</th>\n",
       "    </tr>\n",
       "  </thead>\n",
       "  <tbody>\n",
       "    <tr>\n",
       "      <td>a</td>\n",
       "      <td>0.682271</td>\n",
       "      <td>0.783202</td>\n",
       "      <td>0.123819</td>\n",
       "      <td>0.138016</td>\n",
       "    </tr>\n",
       "    <tr>\n",
       "      <td>b</td>\n",
       "      <td>0.959592</td>\n",
       "      <td>0.315305</td>\n",
       "      <td>0.079737</td>\n",
       "      <td>0.393884</td>\n",
       "    </tr>\n",
       "  </tbody>\n",
       "</table>\n",
       "</div>"
      ],
      "text/plain": [
       "          A         B         C         D\n",
       "a  0.682271  0.783202  0.123819  0.138016\n",
       "b  0.959592  0.315305  0.079737  0.393884"
      ]
     },
     "execution_count": 8,
     "metadata": {},
     "output_type": "execute_result"
    }
   ],
   "source": [
    "# 取前兩列之資料\n",
    "frame.loc['a' : 'b' , :]"
   ]
  },
  {
   "cell_type": "code",
   "execution_count": 9,
   "metadata": {},
   "outputs": [
    {
     "data": {
      "text/html": [
       "<div>\n",
       "<style scoped>\n",
       "    .dataframe tbody tr th:only-of-type {\n",
       "        vertical-align: middle;\n",
       "    }\n",
       "\n",
       "    .dataframe tbody tr th {\n",
       "        vertical-align: top;\n",
       "    }\n",
       "\n",
       "    .dataframe thead th {\n",
       "        text-align: right;\n",
       "    }\n",
       "</style>\n",
       "<table border=\"1\" class=\"dataframe\">\n",
       "  <thead>\n",
       "    <tr style=\"text-align: right;\">\n",
       "      <th></th>\n",
       "      <th>A</th>\n",
       "      <th>B</th>\n",
       "    </tr>\n",
       "  </thead>\n",
       "  <tbody>\n",
       "    <tr>\n",
       "      <td>a</td>\n",
       "      <td>0.682271</td>\n",
       "      <td>0.783202</td>\n",
       "    </tr>\n",
       "    <tr>\n",
       "      <td>b</td>\n",
       "      <td>0.959592</td>\n",
       "      <td>0.315305</td>\n",
       "    </tr>\n",
       "    <tr>\n",
       "      <td>c</td>\n",
       "      <td>0.710372</td>\n",
       "      <td>0.280381</td>\n",
       "    </tr>\n",
       "    <tr>\n",
       "      <td>d</td>\n",
       "      <td>0.702733</td>\n",
       "      <td>0.213145</td>\n",
       "    </tr>\n",
       "  </tbody>\n",
       "</table>\n",
       "</div>"
      ],
      "text/plain": [
       "          A         B\n",
       "a  0.682271  0.783202\n",
       "b  0.959592  0.315305\n",
       "c  0.710372  0.280381\n",
       "d  0.702733  0.213145"
      ]
     },
     "execution_count": 9,
     "metadata": {},
     "output_type": "execute_result"
    }
   ],
   "source": [
    "# 取前兩欄之資料\n",
    "frame.loc[ :, 'A': 'B']"
   ]
  },
  {
   "cell_type": "code",
   "execution_count": 10,
   "metadata": {},
   "outputs": [
    {
     "name": "stdout",
     "output_type": "stream",
     "text": [
      "          A         B         C         D\n",
      "a  0.682271  0.783202  0.123819  0.138016\n",
      "c  0.710372  0.280381  0.914078  0.858816\n",
      "          A         C\n",
      "a  0.682271  0.123819\n",
      "b  0.959592  0.079737\n",
      "c  0.710372  0.914078\n",
      "d  0.702733  0.358149\n",
      "          A         D\n",
      "a  0.682271  0.138016\n",
      "d  0.702733  0.009084\n"
     ]
    }
   ],
   "source": [
    "# 取特殊列、欄的資料\n",
    "print(frame.loc[['a','c'],:])\n",
    "print(frame.loc[:,['A','C']])\n",
    "print(frame.loc[['a','d'],['A','D']])"
   ]
  },
  {
   "cell_type": "markdown",
   "metadata": {},
   "source": [
    "## iloc是利用列索引進行資料定位，都是從0開始"
   ]
  },
  {
   "cell_type": "code",
   "execution_count": 11,
   "metadata": {},
   "outputs": [
    {
     "data": {
      "text/plain": [
       "0.6822709898049997"
      ]
     },
     "execution_count": 11,
     "metadata": {},
     "output_type": "execute_result"
    }
   ],
   "source": [
    "frame.iloc[0,0]"
   ]
  },
  {
   "cell_type": "code",
   "execution_count": 12,
   "metadata": {},
   "outputs": [
    {
     "data": {
      "text/html": [
       "<div>\n",
       "<style scoped>\n",
       "    .dataframe tbody tr th:only-of-type {\n",
       "        vertical-align: middle;\n",
       "    }\n",
       "\n",
       "    .dataframe tbody tr th {\n",
       "        vertical-align: top;\n",
       "    }\n",
       "\n",
       "    .dataframe thead th {\n",
       "        text-align: right;\n",
       "    }\n",
       "</style>\n",
       "<table border=\"1\" class=\"dataframe\">\n",
       "  <thead>\n",
       "    <tr style=\"text-align: right;\">\n",
       "      <th></th>\n",
       "      <th>A</th>\n",
       "      <th>B</th>\n",
       "      <th>C</th>\n",
       "      <th>D</th>\n",
       "    </tr>\n",
       "  </thead>\n",
       "  <tbody>\n",
       "    <tr>\n",
       "      <td>a</td>\n",
       "      <td>0.682271</td>\n",
       "      <td>0.783202</td>\n",
       "      <td>0.123819</td>\n",
       "      <td>0.138016</td>\n",
       "    </tr>\n",
       "    <tr>\n",
       "      <td>b</td>\n",
       "      <td>0.959592</td>\n",
       "      <td>0.315305</td>\n",
       "      <td>0.079737</td>\n",
       "      <td>0.393884</td>\n",
       "    </tr>\n",
       "  </tbody>\n",
       "</table>\n",
       "</div>"
      ],
      "text/plain": [
       "          A         B         C         D\n",
       "a  0.682271  0.783202  0.123819  0.138016\n",
       "b  0.959592  0.315305  0.079737  0.393884"
      ]
     },
     "execution_count": 12,
     "metadata": {},
     "output_type": "execute_result"
    }
   ],
   "source": [
    "# 取前兩列的資料\n",
    "frame.iloc[0:2,:]"
   ]
  },
  {
   "cell_type": "code",
   "execution_count": 13,
   "metadata": {},
   "outputs": [
    {
     "data": {
      "text/html": [
       "<div>\n",
       "<style scoped>\n",
       "    .dataframe tbody tr th:only-of-type {\n",
       "        vertical-align: middle;\n",
       "    }\n",
       "\n",
       "    .dataframe tbody tr th {\n",
       "        vertical-align: top;\n",
       "    }\n",
       "\n",
       "    .dataframe thead th {\n",
       "        text-align: right;\n",
       "    }\n",
       "</style>\n",
       "<table border=\"1\" class=\"dataframe\">\n",
       "  <thead>\n",
       "    <tr style=\"text-align: right;\">\n",
       "      <th></th>\n",
       "      <th>A</th>\n",
       "      <th>B</th>\n",
       "    </tr>\n",
       "  </thead>\n",
       "  <tbody>\n",
       "    <tr>\n",
       "      <td>a</td>\n",
       "      <td>0.682271</td>\n",
       "      <td>0.783202</td>\n",
       "    </tr>\n",
       "    <tr>\n",
       "      <td>b</td>\n",
       "      <td>0.959592</td>\n",
       "      <td>0.315305</td>\n",
       "    </tr>\n",
       "  </tbody>\n",
       "</table>\n",
       "</div>"
      ],
      "text/plain": [
       "          A         B\n",
       "a  0.682271  0.783202\n",
       "b  0.959592  0.315305"
      ]
     },
     "execution_count": 13,
     "metadata": {},
     "output_type": "execute_result"
    }
   ],
   "source": [
    "# 取前兩列、兩欄之資料\n",
    "frame.iloc[0:2,0:2]"
   ]
  },
  {
   "cell_type": "code",
   "execution_count": 14,
   "metadata": {},
   "outputs": [
    {
     "name": "stdout",
     "output_type": "stream",
     "text": [
      "          A         B         C         D\n",
      "a  0.682271  0.783202  0.123819  0.138016\n",
      "c  0.710372  0.280381  0.914078  0.858816\n",
      "          A         C\n",
      "a  0.682271  0.123819\n",
      "b  0.959592  0.079737\n",
      "c  0.710372  0.914078\n",
      "d  0.702733  0.358149\n",
      "          A         D\n",
      "a  0.682271  0.138016\n",
      "d  0.702733  0.009084\n"
     ]
    }
   ],
   "source": [
    "# 取特殊列、欄的資料\n",
    "print(frame.iloc[[0,2],:])\n",
    "print(frame.iloc[:,[0,2]])\n",
    "print(frame.iloc[[0,3],[0,3]])"
   ]
  },
  {
   "cell_type": "code",
   "execution_count": null,
   "metadata": {},
   "outputs": [],
   "source": []
  }
 ],
 "metadata": {
  "kernelspec": {
   "display_name": "Python 3",
   "language": "python",
   "name": "python3"
  },
  "language_info": {
   "codemirror_mode": {
    "name": "ipython",
    "version": 3
   },
   "file_extension": ".py",
   "mimetype": "text/x-python",
   "name": "python",
   "nbconvert_exporter": "python",
   "pygments_lexer": "ipython3",
   "version": "3.7.4"
  }
 },
 "nbformat": 4,
 "nbformat_minor": 2
}
